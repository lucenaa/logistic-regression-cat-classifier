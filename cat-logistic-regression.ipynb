{
 "cells": [
  {
   "cell_type": "markdown",
   "metadata": {},
   "source": [
    "# Logistic Regression with a Neural Network Mindset\n",
    "\n",
    "Welcome! This notebook is a personal project, part of the [Deep Learning Specialization](https://www.deeplearning.ai/) by **Andrew Ng**, developed by DeepLearning.AI.\n",
    "\n",
    "In this project, we build a binary image classifier to recognize whether an image contains a **cat** or **not** using **logistic regression** implemented from scratch — but structured with a **neural network mindset**.\n"
   ]
  },
  {
   "cell_type": "markdown",
   "metadata": {},
   "source": [
    "### 🔌 Importing Libraries\n",
    "\n",
    "In this cell, we import all the Python libraries required for this notebook.\n",
    "\n",
    "- `numpy` is used for handling arrays and vectorized operations\n",
    "- `copy` is used to safely duplicate parameter objects\n",
    "- `matplotlib.pyplot` is for visualizing data (especially images and learning curves)\n",
    "- `h5py` is for reading the dataset stored in `.h5` format\n",
    "- `scipy` and `PIL.Image` help with processing and testing external images\n",
    "- `%matplotlib inline` ensures plots are rendered inside the notebook\n",
    "- `%autoreload 2` reloads modules automatically when code changes are detected\n",
    "\n",
    "These imports are foundational for everything we will implement below.\n"
   ]
  },
  {
   "cell_type": "code",
   "execution_count": 23,
   "metadata": {},
   "outputs": [
    {
     "name": "stdout",
     "output_type": "stream",
     "text": [
      "The autoreload extension is already loaded. To reload it, use:\n",
      "  %reload_ext autoreload\n"
     ]
    }
   ],
   "source": [
    "import numpy as np\n",
    "import copy\n",
    "import matplotlib.pyplot as plt\n",
    "import h5py\n",
    "import scipy\n",
    "from PIL import Image\n",
    "from scipy import ndimage\n",
    "\n",
    "%matplotlib inline\n",
    "%load_ext autoreload\n",
    "%autoreload 2"
   ]
  },
  {
   "cell_type": "markdown",
   "metadata": {},
   "source": [
    "## Loading the Dataset\n",
    "\n",
    "We now load the dataset containing images of cats and non-cats. The data is stored in `.h5` files — a hierarchical data format ideal for large and structured datasets.\n",
    "\n",
    "Each image in the dataset is a **color image** of shape `(64, 64, 3)`:\n",
    "- `64 x 64` pixels\n",
    "- `3` color channels (RGB)\n",
    "\n",
    "The dataset is composed of:\n",
    "- `train_set_x_orig`: training images\n",
    "- `train_set_y`: labels for training images (1 = cat, 0 = non-cat)\n",
    "- `test_set_x_orig`: test images\n",
    "- `test_set_y`: labels for test images\n",
    "- `classes`: string labels (e.g., `b'cat'`, `b'non-cat'`)\n",
    "\n",
    "We load all this into NumPy arrays using the `h5py` library and verify the shapes of the datasets to confirm successful import.\n"
   ]
  },
  {
   "cell_type": "code",
   "execution_count": 24,
   "metadata": {},
   "outputs": [
    {
     "name": "stdout",
     "output_type": "stream",
     "text": [
      "train_set_x_orig shape: (209, 64, 64, 3)\n",
      "train_set_y shape: (209,)\n",
      "test_set_x_orig shape: (50, 64, 64, 3)\n",
      "test_set_y shape: (50,)\n"
     ]
    }
   ],
   "source": [
    "train_dataset_path = \"datasets/train_catvnoncat.h5\"\n",
    "test_dataset_path = \"datasets/test_catvnoncat.h5\"\n",
    "\n",
    "# Loading the training dataset\n",
    "with h5py.File(train_dataset_path, 'r') as train_dataset:\n",
    "    train_set_x_orig = np.array(train_dataset[\"train_set_x\"][:])\n",
    "    train_set_y = np.array(train_dataset[\"train_set_y\"][:]) \n",
    "    classes = np.array(train_dataset[\"list_classes\"][:])\n",
    "    \n",
    "with h5py.File(test_dataset_path, 'r') as test_dataset:\n",
    "    test_set_x_orig = np.array(test_dataset[\"test_set_x\"][:])\n",
    "    test_set_y = np.array(test_dataset[\"test_set_y\"][:])\n",
    "    \n",
    "\n",
    "print(\"train_set_x_orig shape:\", train_set_x_orig.shape)\n",
    "print(\"train_set_y shape:\", train_set_y.shape)\n",
    "print(\"test_set_x_orig shape:\", test_set_x_orig.shape)\n",
    "print(\"test_set_y shape:\", test_set_y.shape)"
   ]
  },
  {
   "cell_type": "markdown",
   "metadata": {},
   "source": [
    "## Exploring Dataset Dimensions\n",
    "\n",
    "Before building the model, it's important to understand the structure of our data.\n",
    "\n",
    "We extract the following key values:\n",
    "- `m_train`: number of training examples\n",
    "- `m_test`: number of test examples\n",
    "- `num_px`: height (and width) of each image (since the images are square)\n",
    "\n",
    "We also display the shape of the original image arrays to verify:\n",
    "- The shape of the training and test sets\n",
    "- That each image is represented as a 3D array (height × width × 3 for RGB)\n",
    "\n",
    "This step ensures that we understand what input the model will receive and how to reshape or normalize it properly.\n"
   ]
  },
  {
   "cell_type": "code",
   "execution_count": 25,
   "metadata": {
    "deletable": false,
    "nbgrader": {
     "cell_type": "code",
     "checksum": "921fe679a632ec7ec9963069fa405725",
     "grade": false,
     "grade_id": "cell-c4e7e9c1f174eb83",
     "locked": false,
     "schema_version": 3,
     "solution": true,
     "task": false
    }
   },
   "outputs": [
    {
     "name": "stdout",
     "output_type": "stream",
     "text": [
      "Number of training examples: m_train = 209\n",
      "Number of testing examples: m_test = 50\n",
      "Height/Width of each image: num_px = 64\n",
      "Each image is of size: (64, 64, 3)\n",
      "train_set_x shape: (209, 64, 64, 3)\n",
      "train_set_y shape: (209,)\n",
      "test_set_x shape: (50, 64, 64, 3)\n",
      "test_set_y shape: (50,)\n"
     ]
    }
   ],
   "source": [
    "m_train = train_set_x_orig.shape[0]\n",
    "m_test = test_set_x_orig.shape[0]\n",
    "num_px = train_set_x_orig.shape[1]\n",
    "\n",
    "\n",
    "print (\"Number of training examples: m_train = \" + str(m_train))\n",
    "print (\"Number of testing examples: m_test = \" + str(m_test))\n",
    "print (\"Height/Width of each image: num_px = \" + str(num_px))\n",
    "print (\"Each image is of size: (\" + str(num_px) + \", \" + str(num_px) + \", 3)\")\n",
    "print (\"train_set_x shape: \" + str(train_set_x_orig.shape))\n",
    "print (\"train_set_y shape: \" + str(train_set_y.shape))\n",
    "print (\"test_set_x shape: \" + str(test_set_x_orig.shape))\n",
    "print (\"test_set_y shape: \" + str(test_set_y.shape))"
   ]
  },
  {
   "cell_type": "markdown",
   "metadata": {},
   "source": [
    "## Data Preprocessing - Flattening and Reshaping\n",
    "\n",
    "To feed the image data into our logistic regression model, we must flatten each image into a 1D vector.\n",
    "\n",
    "Each image has shape `(num_px, num_px, 3)` → we reshape it into a column vector of shape `(num_px * num_px * 3, 1)`.  \n",
    "This transformation is done for all `m` examples at once, resulting in:\n",
    "- `train_set_x_flatten`: shape `(12288, m_train)`\n",
    "- `test_set_x_flatten`: shape `(12288, m_test)`\n",
    "\n",
    "We also reshape the labels to match the expected shape:\n",
    "- From `(m,)` to `(1, m)` for both `train_set_y` and `test_set_y`\n",
    "\n",
    "This ensures compatibility for matrix operations during forward and backward propagation.\n"
   ]
  },
  {
   "cell_type": "code",
   "execution_count": 26,
   "metadata": {
    "deletable": false,
    "nbgrader": {
     "cell_type": "code",
     "checksum": "5a2aa62bdd8c01450111b758ef159aec",
     "grade": false,
     "grade_id": "cell-0f43921062c34e50",
     "locked": false,
     "schema_version": 3,
     "solution": true,
     "task": false
    }
   },
   "outputs": [
    {
     "name": "stdout",
     "output_type": "stream",
     "text": [
      "train_set_x_flatten shape: (12288, 209)\n",
      "train_set_y shape: (1, 209)\n",
      "test_set_x_flatten shape: (12288, 50)\n",
      "test_set_y shape: (1, 50)\n"
     ]
    }
   ],
   "source": [
    "train_set_x_flatten = train_set_x_orig.reshape(m_train, num_px*num_px*3).T\n",
    "test_set_x_flatten = test_set_x_orig.reshape(m_test, num_px*num_px*3).T\n",
    "train_set_y = train_set_y.reshape(1, m_train)\n",
    "test_set_y = test_set_y.reshape(1, m_test)\n",
    "\n",
    "print (\"train_set_x_flatten shape: \" + str(train_set_x_flatten.shape))\n",
    "print (\"train_set_y shape: \" + str(train_set_y.shape))\n",
    "print (\"test_set_x_flatten shape: \" + str(test_set_x_flatten.shape))\n",
    "print (\"test_set_y shape: \" + str(test_set_y.shape))"
   ]
  },
  {
   "cell_type": "markdown",
   "metadata": {},
   "source": [
    "## Data Normalization\n",
    "\n",
    "Pixel values in images range from **0 to 255**. To ensure faster and more stable convergence during training, it's common practice to **normalize the data** by scaling the pixel values to a [0, 1] range.\n",
    "\n",
    "This is done by dividing each pixel value by 255:\n",
    "\n",
    "```python\n",
    "X_normalized = X / 255.\n"
   ]
  },
  {
   "cell_type": "code",
   "execution_count": 27,
   "metadata": {},
   "outputs": [
    {
     "name": "stdout",
     "output_type": "stream",
     "text": [
      "train_set_x min/max: 0.0 1.0\n",
      "test_set_x min/max: 0.0 1.0\n"
     ]
    }
   ],
   "source": [
    "train_set_x = train_set_x_flatten / 255.\n",
    "test_set_x = test_set_x_flatten / 255.\n",
    "\n",
    "print(\"train_set_x min/max:\", train_set_x.min(), train_set_x.max())\n",
    "print(\"test_set_x min/max:\", test_set_x.min(), test_set_x.max())"
   ]
  },
  {
   "cell_type": "markdown",
   "metadata": {},
   "source": [
    "## Sigmoid Activation Function\n",
    "\n",
    "The **sigmoid function** transforms any real-valued number into a value between **0 and 1**, making it ideal for binary classification problems.\n",
    "\n",
    "It is defined as:\n",
    "\n",
    "$$\\sigma(z) = \\frac{1}{1 + e^{-z}}$$\n",
    "\n",
    "In the context of logistic regression, the sigmoid function outputs the **probability that the input belongs to the positive class** (e.g., \"cat\").\n",
    "\n",
    "This function will be used to compute the activation `A = sigmoid(wᵀx + b)` in forward propagation.\n"
   ]
  },
  {
   "cell_type": "code",
   "execution_count": 6,
   "metadata": {
    "deletable": false,
    "nbgrader": {
     "cell_type": "code",
     "checksum": "239ab1cf1028b721fd14f31b8103c40d",
     "grade": false,
     "grade_id": "cell-520521c430352f3b",
     "locked": false,
     "schema_version": 3,
     "solution": true,
     "task": false
    }
   },
   "outputs": [],
   "source": [
    "def sigmoid(z):\n",
    "    \n",
    "    s = 1/(1+np.exp(-z))\n",
    "    \n",
    "    return s"
   ]
  },
  {
   "cell_type": "markdown",
   "metadata": {},
   "source": [
    "## Initializing Parameters with Zeros\n",
    "\n",
    "Before training our logistic regression model, we need to initialize the parameters `w` (weights) and `b` (bias).\n",
    "\n",
    "Since logistic regression is a convex optimization problem, initializing the weights with zeros will **not affect convergence** — unlike in deep neural networks, where zero initialization can cause symmetry issues.\n",
    "\n",
    "In this implementation:\n",
    "- `w` is initialized as a column vector of zeros with shape `(dim, 1)`\n",
    "- `b` is initialized as a scalar `0.0`\n",
    "\n",
    "These parameters will be updated during gradient descent.\n"
   ]
  },
  {
   "cell_type": "code",
   "execution_count": 8,
   "metadata": {
    "deletable": false,
    "nbgrader": {
     "cell_type": "code",
     "checksum": "c4a37e375a85ddab7274a33abf46bb7c",
     "grade": false,
     "grade_id": "cell-befa9335e479864e",
     "locked": false,
     "schema_version": 3,
     "solution": true,
     "task": false
    }
   },
   "outputs": [],
   "source": [
    "def initialize_with_zeros(dim):\n",
    "    \n",
    "    w = np.zeros((dim,1))\n",
    "    b = 0.0\n",
    "\n",
    "    return w, b"
   ]
  },
  {
   "cell_type": "markdown",
   "metadata": {},
   "source": [
    "## Forward and Backward Propagation\n",
    "\n",
    "This function implements the two main steps of learning in logistic regression:\n",
    "\n",
    "### 1. Forward Propagation:\n",
    "- Computes the predicted probabilities using the sigmoid activation:\n",
    "  $$ A = \\sigma(w^T X + b) $$\n",
    "- Computes the **log-likelihood cost**:\n",
    "  $$ J = -\\frac{1}{m} \\sum \\left[ y \\log(a) + (1 - y)\\log(1 - a) \\right] $$\n",
    "\n",
    "### 2. Backward Propagation:\n",
    "- Calculates the gradients of the cost with respect to `w` and `b`:\n",
    "  - $$ dw = \\frac{1}{m} X (A - Y)^T $$\n",
    "  - $$ db = \\frac{1}{m} \\sum (A - Y) $$\n",
    "\n",
    "These gradients will be used to update the parameters during optimization.\n",
    "\n",
    "The function returns:\n",
    "- `grads`: dictionary containing `dw` and `db`\n",
    "- `cost`: the scalar value of the current cost\n"
   ]
  },
  {
   "cell_type": "code",
   "execution_count": 28,
   "metadata": {
    "deletable": false,
    "nbgrader": {
     "cell_type": "code",
     "checksum": "8552b2c9cff2b5fa537fab9f98a6e4da",
     "grade": false,
     "grade_id": "cell-11af17e28077b3d3",
     "locked": false,
     "schema_version": 3,
     "solution": true,
     "task": false
    }
   },
   "outputs": [],
   "source": [
    "def propagate(w, b, X, Y):\n",
    "        \n",
    "    m = X.shape[1]\n",
    "    \n",
    "    A = sigmoid(np.dot(w.T, X)+b)\n",
    "    cost = -1/m * np.sum(Y*np.log(A) + (1-Y)*np.log(1-A))\n",
    "    \n",
    "    dw = 1/m * np.dot(X, (A-Y).T)\n",
    "    db = 1/m * np.sum(A-Y)\n",
    "   \n",
    "    cost = np.squeeze(np.array(cost))\n",
    "    \n",
    "    grads = {\"dw\": dw,\n",
    "             \"db\": db}\n",
    "    \n",
    "    return grads, cost"
   ]
  },
  {
   "cell_type": "markdown",
   "metadata": {},
   "source": [
    "## Optimization - Gradient Descent\n",
    "\n",
    "This function performs **gradient descent** to minimize the cost function and update the parameters `w` and `b`.\n",
    "\n",
    "### What happens in each iteration:\n",
    "1. **Forward and backward propagation** is called via `propagate()` to compute the cost and gradients.\n",
    "2. **Parameters are updated** using the gradient descent rules:\n",
    "   - $$ w := w - \\alpha \\cdot dw $$\n",
    "   - $$ b := b - \\alpha \\cdot db $$\n",
    "   where $\\alpha$ is the learning rate.\n",
    "3. The cost is recorded every 10 iterations for visualization and analysis.\n",
    "\n",
    "### Function returns:\n",
    "- `params`: dictionary containing the final learned values of `w` and `b`\n",
    "- `grads`: final gradients `dw` and `db`\n",
    "- `costs`: list of costs computed every 10 iterations (used to plot the learning curve)\n"
   ]
  },
  {
   "cell_type": "code",
   "execution_count": 33,
   "metadata": {
    "deletable": false,
    "nbgrader": {
     "cell_type": "code",
     "checksum": "49d9b4c1a780bf141c8eb48e06cbb494",
     "grade": false,
     "grade_id": "cell-616d6883e807448d",
     "locked": false,
     "schema_version": 3,
     "solution": true,
     "task": false
    }
   },
   "outputs": [],
   "source": [
    "def optimize(w, b, X, Y, num_iterations=100, learning_rate=0.009, print_cost=False):\n",
    "    \n",
    "    w = copy.deepcopy(w)\n",
    "    b = copy.deepcopy(b)\n",
    "    \n",
    "    costs = []\n",
    "    \n",
    "    for i in range(num_iterations):\n",
    "        grads, cost = propagate(w, b, X, Y)\n",
    "        \n",
    "        dw = grads[\"dw\"]\n",
    "        db = grads[\"db\"]\n",
    "        \n",
    "        w = w - learning_rate*dw\n",
    "        b = b - learning_rate*db\n",
    "        \n",
    "        if i % 100 == 0:\n",
    "            costs.append(cost)\n",
    "        \n",
    "            # Print the cost every 100 training iterations\n",
    "            if print_cost:\n",
    "                print (\"Cost after iteration %i: %f\" %(i, cost))\n",
    "    \n",
    "    params = {\"w\": w,\n",
    "              \"b\": b}\n",
    "    \n",
    "    grads = {\"dw\": dw,\n",
    "             \"db\": db}\n",
    "    \n",
    "    return params, grads, costs"
   ]
  },
  {
   "cell_type": "markdown",
   "metadata": {},
   "source": [
    "## Prediction Function\n",
    "\n",
    "This function uses the learned parameters `w` and `b` to make predictions on a given dataset `X`.\n",
    "\n",
    "### Steps:\n",
    "1. Computes the probability estimates:\n",
    "   $$ \\hat{Y} = A = \\sigma(w^T X + b) $$\n",
    "2. Applies a **decision threshold** of 0.5 to convert probabilities into binary predictions:\n",
    "   - If $A^{(i)} > 0.5$, then $\\hat{Y}^{(i)} = 1$\n",
    "   - Else, $\\hat{Y}^{(i)} = 0$\n",
    "\n",
    "### Output:\n",
    "- `Y_prediction`: a NumPy array containing predictions (0 or 1) for each example in `X`.\n",
    "\n",
    "> This function will be used to evaluate the model's accuracy on both the training and test sets.\n"
   ]
  },
  {
   "cell_type": "code",
   "execution_count": 34,
   "metadata": {
    "deletable": false,
    "nbgrader": {
     "cell_type": "code",
     "checksum": "e56419b97ebf382a8f93ac2873988887",
     "grade": false,
     "grade_id": "cell-d6f924f49c51dc2f",
     "locked": false,
     "schema_version": 3,
     "solution": true,
     "task": false
    }
   },
   "outputs": [],
   "source": [
    "def predict(w, b, X):\n",
    "    \n",
    "    m = X.shape[1]\n",
    "    Y_prediction = np.zeros((1, m))\n",
    "    w = w.reshape(X.shape[0], 1)\n",
    "    \n",
    "    A = sigmoid(np.dot(w.T, X)+b)\n",
    "    \n",
    "    \n",
    "    for i in range(A.shape[1]):\n",
    "\n",
    "        if A[0, i] > 0.5:\n",
    "            Y_prediction[0, i]=1\n",
    "        else:\n",
    "            Y_prediction[0, i]=0\n",
    "    \n",
    "    return Y_prediction"
   ]
  },
  {
   "cell_type": "markdown",
   "metadata": {},
   "source": [
    "## The Model Function\n",
    "\n",
    "This function integrates all previously defined components to build a full logistic regression classifier from scratch.\n",
    "\n",
    "### It performs the following steps:\n",
    "1. **Parameter initialization** using `initialize_with_zeros()`\n",
    "2. **Training** the model using `optimize()` (gradient descent)\n",
    "3. **Prediction** on both training and test sets using `predict()`\n",
    "4. **Evaluation** of accuracy on both datasets\n",
    "\n",
    "### Output:\n",
    "- Returns a dictionary `d` containing:\n",
    "  - Final parameters `w` and `b`\n",
    "  - Predictions on the train/test sets\n",
    "  - List of costs (for plotting the learning curve)\n",
    "  - Learning rate and number of iterations used\n",
    "\n",
    "This function acts as the main entry point for training and evaluating your logistic regression model.\n"
   ]
  },
  {
   "cell_type": "code",
   "execution_count": 35,
   "metadata": {
    "deletable": false,
    "nbgrader": {
     "cell_type": "code",
     "checksum": "b62adfb8f5a0f5bb5aa6798c3c5df66d",
     "grade": false,
     "grade_id": "cell-6dcba5967c4cbf8c",
     "locked": false,
     "schema_version": 3,
     "solution": true,
     "task": false
    }
   },
   "outputs": [],
   "source": [
    "def model(X_train, Y_train, X_test, Y_test, num_iterations=2000, learning_rate=0.5, print_cost=False):\n",
    "    \n",
    "    w, b = initialize_with_zeros(X_train.shape[0])\n",
    "    params, grads, costs = optimize(w, b, X_train, Y_train, num_iterations, learning_rate, print_cost=False)\n",
    "    w = params[\"w\"]\n",
    "    b = params[\"b\"]\n",
    "    Y_prediction_test = predict(w, b, X_test)\n",
    "    Y_prediction_train = predict(w, b, X_train)\n",
    "    \n",
    "    if print_cost:\n",
    "        print(\"train accuracy: {} %\".format(100 - np.mean(np.abs(Y_prediction_train - Y_train)) * 100))\n",
    "        print(\"test accuracy: {} %\".format(100 - np.mean(np.abs(Y_prediction_test - Y_test)) * 100))\n",
    "    \n",
    "    d = {\"costs\": costs,\n",
    "         \"Y_prediction_test\": Y_prediction_test, \n",
    "         \"Y_prediction_train\" : Y_prediction_train, \n",
    "         \"w\" : w, \n",
    "         \"b\" : b,\n",
    "         \"learning_rate\" : learning_rate,\n",
    "         \"num_iterations\": num_iterations}\n",
    "    \n",
    "    return d"
   ]
  },
  {
   "cell_type": "markdown",
   "metadata": {},
   "source": [
    "## Training the Logistic Regression Model\n",
    "\n",
    "We now train our logistic regression model on the cat vs. non-cat dataset using the `model()` function.\n",
    "\n",
    "### Training details:\n",
    "- **Number of iterations:** 3000\n",
    "- **Learning rate:** 0.001\n",
    "- **Print cost:** enabled every 100 iterations\n",
    "\n",
    "This will:\n",
    "- Initialize parameters\n",
    "- Run gradient descent\n",
    "- Predict on both train and test sets\n",
    "- Print training progress (cost reduction over time)\n",
    "\n",
    "The returned dictionary `logistic_regression_model` contains all relevant outputs for further analysis and visualization.\n"
   ]
  },
  {
   "cell_type": "code",
   "execution_count": 36,
   "metadata": {},
   "outputs": [
    {
     "name": "stdout",
     "output_type": "stream",
     "text": [
      "train accuracy: 93.77990430622009 %\n",
      "test accuracy: 74.0 %\n"
     ]
    }
   ],
   "source": [
    "logistic_regression_model = model(train_set_x, train_set_y, test_set_x, test_set_y, num_iterations=3000, learning_rate=0.001, print_cost=True)"
   ]
  },
  {
   "cell_type": "markdown",
   "metadata": {},
   "source": [
    "## Visualizing a Test Example and Prediction\n",
    "\n",
    "Let's visualize an image from the test set and compare the model's prediction to the true label.\n",
    "\n",
    "- `index = 1` selects the second image from the test set\n",
    "- The image is displayed using `matplotlib`\n",
    "- We print both:\n",
    "  - The **true label** `y` (1 = cat, 0 = non-cat)\n",
    "  - The **predicted label** based on the model output\n",
    "\n",
    "This is a useful way to interpret individual predictions and check if the model is behaving as expected.\n"
   ]
  },
  {
   "cell_type": "code",
   "execution_count": 37,
   "metadata": {},
   "outputs": [
    {
     "name": "stdout",
     "output_type": "stream",
     "text": [
      "y = 1, you predicted that it is a \"cat\" picture.\n"
     ]
    },
    {
     "data": {
      "image/png": "[encoded data removed]",
      "text/plain": [
       "<Figure size 640x480 with 1 Axes>"
      ]
     },
     "metadata": {},
     "output_type": "display_data"
    }
   ],
   "source": [
    "index = 1\n",
    "plt.imshow(test_set_x[:, index].reshape((num_px, num_px, 3)))\n",
    "print (\"y = \" + str(test_set_y[0,index]) + \", you predicted that it is a \\\"\" + classes[int(logistic_regression_model['Y_prediction_test'][0,index])].decode(\"utf-8\") +  \"\\\" picture.\")"
   ]
  },
  {
   "cell_type": "markdown",
   "metadata": {},
   "source": [
    "## Plotting the Cost Function\n",
    "\n",
    "To understand how well the model is learning, we plot the **cost value over iterations**.\n",
    "\n",
    "- `costs` is a list of cost values recorded every 100 iterations during training\n",
    "- A smooth and decreasing curve indicates that the model is learning and converging properly\n",
    "\n",
    "This visualization helps us:\n",
    "- Diagnose if the learning rate is too high or too low\n",
    "- Detect potential plateaus or instability in training\n"
   ]
  },
  {
   "cell_type": "code",
   "execution_count": 42,
   "metadata": {},
   "outputs": [
    {
     "data": {
      "image/png": "[encoded data removed]",
      "text/plain": [
       "<Figure size 640x480 with 1 Axes>"
      ]
     },
     "metadata": {},
     "output_type": "display_data"
    }
   ],
   "source": [
    "costs = np.squeeze(logistic_regression_model['costs'])\n",
    "plt.plot(costs)\n",
    "plt.ylabel('cost')\n",
    "plt.xlabel('iterations (per hundreds)')\n",
    "plt.title(\"Learning rate =\" + str(logistic_regression_model[\"learning_rate\"]))\n",
    "plt.show()"
   ]
  },
  {
   "cell_type": "markdown",
   "metadata": {},
   "source": [
    "## Comparing Different Learning Rates\n",
    "\n",
    "To understand the effect of the learning rate on training dynamics, we train three models using different learning rates:\n",
    "\n",
    "- `0.01`\n",
    "- `0.001`\n",
    "- `0.0001`\n",
    "\n",
    "Each model is trained for 1500 iterations, and the cost is recorded during training.\n",
    "\n",
    "### What this analysis shows:\n",
    "- A **high learning rate** may converge faster but risks overshooting or diverging\n",
    "- A **low learning rate** may be more stable but can converge too slowly or get stuck\n",
    "\n",
    "We plot the cost curves for each learning rate to visually compare their performance and convergence behavior.\n"
   ]
  },
  {
   "cell_type": "code",
   "execution_count": 51,
   "metadata": {},
   "outputs": [
    {
     "name": "stdout",
     "output_type": "stream",
     "text": [
      "Training a model with learning rate: 0.01\n",
      "\n",
      "-------------------------------------------------------\n",
      "\n",
      "Training a model with learning rate: 0.001\n",
      "\n",
      "-------------------------------------------------------\n",
      "\n",
      "Training a model with learning rate: 0.0001\n",
      "\n",
      "-------------------------------------------------------\n",
      "\n"
     ]
    },
    {
     "data": {
      "image/png": "[encoded data removed]",
      "text/plain": [
       "<Figure size 640x480 with 1 Axes>"
      ]
     },
     "metadata": {},
     "output_type": "display_data"
    }
   ],
   "source": [
    "learning_rates = [0.01, 0.001, 0.0001]\n",
    "models = {}\n",
    "\n",
    "for lr in learning_rates:\n",
    "    print (\"Training a model with learning rate: \" + str(lr))\n",
    "    models[str(lr)] = model(train_set_x, train_set_y, test_set_x, test_set_y, num_iterations=1500, learning_rate=lr, print_cost=False)\n",
    "    print ('\\n' + \"-------------------------------------------------------\" + '\\n')\n",
    "\n",
    "for lr in learning_rates:\n",
    "    plt.plot(np.squeeze(models[str(lr)][\"costs\"]), label=str(models[str(lr)][\"learning_rate\"]))\n",
    "\n",
    "plt.ylabel('cost')\n",
    "plt.xlabel('iterations (hundreds)')\n",
    "\n",
    "legend = plt.legend(loc='upper center', shadow=True)\n",
    "frame = legend.get_frame()\n",
    "frame.set_facecolor('0.90')\n",
    "plt.show()"
   ]
  },
  {
   "cell_type": "markdown",
   "metadata": {},
   "source": [
    "## Hyperparameter Tuning - Grid Search\n",
    "\n",
    "To find the best combination of `learning_rate` and `num_iterations`, we perform a simple **grid search** over predefined values:\n",
    "\n",
    "- Learning rates: `[0.01, 0.005, 0.001]`\n",
    "- Number of iterations: `[1000, 3000, 5000, 10000]`\n",
    "\n",
    "For each combination, we:\n",
    "1. Train the model\n",
    "2. Evaluate the test set accuracy\n",
    "3. Track the best-performing model\n",
    "\n",
    "### Why this matters:\n",
    "- A good learning rate can significantly speed up convergence without overshooting\n",
    "- The right number of iterations ensures the model learns enough without overfitting\n",
    "\n",
    "This strategy helps balance speed and performance.\n"
   ]
  },
  {
   "cell_type": "code",
   "execution_count": 52,
   "metadata": {},
   "outputs": [
    {
     "name": "stdout",
     "output_type": "stream",
     "text": [
      "Testing lr=0.01, iter=1000\n",
      "Testing lr=0.01, iter=3000\n",
      "Testing lr=0.01, iter=5000\n",
      "Testing lr=0.01, iter=10000\n",
      "Testing lr=0.005, iter=1000\n",
      "Testing lr=0.005, iter=3000\n",
      "Testing lr=0.005, iter=5000\n",
      "Testing lr=0.005, iter=10000\n",
      "Testing lr=0.001, iter=1000\n",
      "Testing lr=0.001, iter=3000\n",
      "Testing lr=0.001, iter=5000\n",
      "Testing lr=0.001, iter=10000\n",
      "Best accuracy: 74.0\n",
      "Best parameters: {'learning_rate': 0.001, 'num_iterations': 3000}\n"
     ]
    }
   ],
   "source": [
    "learning_rates = [0.01, 0.005, 0.001]\n",
    "iterations = [1000, 3000, 5000, 10000]\n",
    "\n",
    "best_score = 0\n",
    "best_modelo = None\n",
    "best_parameters = {}\n",
    "\n",
    "for lr in learning_rates:\n",
    "    for iters in iterations:\n",
    "        print(f\"Testing lr={lr}, iter={iters}\")\n",
    "        modelo = model(train_set_x, train_set_y, test_set_x, test_set_y,\n",
    "                       num_iterations=iters, learning_rate=lr, print_cost=False)\n",
    "        \n",
    "        acc = 100 - np.mean(np.abs(modelo[\"Y_prediction_test\"] - test_set_y)) * 100\n",
    "        \n",
    "        if acc > best_score:\n",
    "            best_score = acc\n",
    "            best_modelo = modelo\n",
    "            best_parameters = {\n",
    "                \"learning_rate\": lr,\n",
    "                \"num_iterations\": iters\n",
    "            }\n",
    "\n",
    "print(\"Best accuracy:\", best_score)\n",
    "print(\"Best parameters:\", best_parameters)\n"
   ]
  }
 ],
 "metadata": {
  "kernelspec": {
   "display_name": "venv",
   "language": "python",
   "name": "python3"
  },
  "language_info": {
   "codemirror_mode": {
    "name": "ipython",
    "version": 3
   },
   "file_extension": ".py",
   "mimetype": "text/x-python",
   "name": "python",
   "nbconvert_exporter": "python",
   "pygments_lexer": "ipython3",
   "version": "3.10.11"
  }
 },
 "nbformat": 4,
 "nbformat_minor": 2
}
